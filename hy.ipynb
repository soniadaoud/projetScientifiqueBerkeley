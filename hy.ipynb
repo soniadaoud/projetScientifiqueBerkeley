{
 "cells": [
  {
   "cell_type": "code",
   "execution_count": null,
   "metadata": {},
   "outputs": [],
   "source": [
    "import numpy as np\n",
    "import matplotlib.pyplot as plt\n",
    "import matplotlib.patches as mpatches\n",
    "import math\n",
    "import scipy\n",
    "from scipy import ndimage\n",
    "\n",
    "N=200000\n",
    "\n",
    "x = np.linspace(-10,10,N)\n",
    "\n",
    "\n",
    "def ellipse(a, b):\n",
    "    y = +(b/a)*np.sqrt(a**2-x**2) #Positive part\n",
    "    z = -(b/a)*np.sqrt(a**2-x**2) #Negative part\n",
    "    return y,z\n",
    "\n",
    "plt.gcf().clear()\n",
    "y,z=ellipse(6,2)\n",
    "angle= -30 \n",
    "rtheta = np.radians(angle)\n",
    "R = np.array([\n",
    "    [np.cos(rtheta), -np.sin(rtheta)],\n",
    "    [np.sin(rtheta),  np.cos(rtheta)],\n",
    "    ])\n",
    "\n",
    "\n",
    "def rotate(y,z):\n",
    "    for i in range(0,N): \n",
    "        print(i)\n",
    "        print(x[i],z[i],y[i])\n",
    "        print( np.dot(R,[x[i] , y[i]]) , np.dot(R,[x[i] , z[i]]))\n",
    "        \n",
    "        \n",
    "    return True \n",
    "    \n",
    "        \n",
    "        \n",
    "\n",
    "\n",
    "y1,z1=rotate(y,z)\n",
    "print(y1,z1)\n",
    "\n",
    "# plt.plot(x1,y1,'g-')\n",
    "# plt.plot(x1,z1,'g-')\n",
    "\n",
    "# plt.show()\n",
    "\n",
    "\n"
   ]
  },
  {
   "cell_type": "code",
   "execution_count": null,
   "metadata": {
    "collapsed": true
   },
   "outputs": [],
   "source": []
  }
 ],
 "metadata": {
  "kernelspec": {
   "display_name": "Python 3",
   "language": "python",
   "name": "python3"
  },
  "language_info": {
   "codemirror_mode": {
    "name": "ipython",
    "version": 3
   },
   "file_extension": ".py",
   "mimetype": "text/x-python",
   "name": "python",
   "nbconvert_exporter": "python",
   "pygments_lexer": "ipython3",
   "version": "3.6.1"
  }
 },
 "nbformat": 4,
 "nbformat_minor": 2
}
